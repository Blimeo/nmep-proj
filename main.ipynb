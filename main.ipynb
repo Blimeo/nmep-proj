{
 "cells": [
  {
   "cell_type": "code",
   "execution_count": 1,
   "metadata": {},
   "outputs": [],
   "source": [
    "import torch\n",
    "import torchvision.transforms as transforms\n",
    "from utils import *\n",
    "from models import *"
   ]
  },
  {
   "cell_type": "code",
   "execution_count": 2,
   "metadata": {},
   "outputs": [
    {
     "name": "stdout",
     "output_type": "stream",
     "text": [
      "cuda:0\n"
     ]
    }
   ],
   "source": [
    "device = torch.device(\"cuda:0\" if torch.cuda.is_available() else \"cpu\")\n",
    "print(device)"
   ]
  },
  {
   "cell_type": "code",
   "execution_count": 3,
   "metadata": {},
   "outputs": [
    {
     "name": "stdout",
     "output_type": "stream",
     "text": [
      "Files already downloaded and verified\n"
     ]
    }
   ],
   "source": [
    "test_transform = transforms.Compose([transforms.ToTensor(),\n",
    "                transforms.Normalize(mean=[0.485, 0.456, 0.406],\n",
    "                                     std=[0.229, 0.224, 0.225])\n",
    "])\n",
    "invertTransform = transforms.Compose([\n",
    "                                transforms.Normalize(mean = [ 0., 0., 0. ],\n",
    "                                                     std = [ 1/0.229, 1/0.224, 1/0.225 ]),\n",
    "                                transforms.Normalize(mean = [ -0.485, -0.456, -0.406 ],\n",
    "                                                     std = [ 1., 1., 1. ]),\n",
    "                               ])\n",
    "# test_transform = transforms.Compose([transforms.ToTensor()\n",
    "# ])\n",
    "\n",
    "test_data = torchvision.datasets.CIFAR10('data/', download=True, train=False, transform=test_transform)\n",
    "test_dataloader = torch.utils.data.DataLoader(test_data,\n",
    "                                          batch_size=4096, # just for test accuracy\n",
    "                                          shuffle=True)\n",
    "\n",
    "cifar_labels = {0:'airplane',1:'automobile',2:'bird',3:'cat',4:'deer',5:'dog',6:'frog',7:'horse',8:'ship',9:'truck'}"
   ]
  },
  {
   "cell_type": "code",
   "execution_count": 10,
   "metadata": {},
   "outputs": [
    {
     "name": "stderr",
     "output_type": "stream",
     "text": [
      "Using cache found in C:\\Users\\Oliver/.cache\\torch\\hub\\pytorch_vision_v0.6.0\n"
     ]
    },
    {
     "name": "stdout",
     "output_type": "stream",
     "text": [
      "\n"
     ]
    }
   ],
   "source": [
    "model = ResNet('18').to(device)\n",
    "model.load_state_dict(torch.load('models/resnet18_l2eps=10steps=7/24')) # 20 omg\n",
    "model.eval()\n",
    "print()"
   ]
  },
  {
   "cell_type": "code",
   "execution_count": 5,
   "metadata": {},
   "outputs": [],
   "source": [
    "# test_acc = accuracy(model, test_dataloader, device)\n",
    "# fgsm_acc = fgsm_accuracy(model, test_dataloader, device)\n",
    "# pgd_acc = pgd_accuracy(model, test_dataloader, device, eps=10, steps=3, alpha=0.1)\n",
    "# print('Normal Test Accuray:', test_acc)\n",
    "# print('FGSM Test Accuracy:', fgsm_acc)\n",
    "# print('PGD Test Accuracy:', pgd_acc)"
   ]
  },
  {
   "cell_type": "code",
   "execution_count": 6,
   "metadata": {},
   "outputs": [],
   "source": [
    "it = iter(test_dataloader)\n",
    "i, l = it.next()\n",
    "images, labels = i[0:2].to(device), l[0:2].view(2).to(device)\n",
    "image, label = images[0], labels[0].view(1)\n"
   ]
  },
  {
   "cell_type": "code",
   "execution_count": 7,
   "metadata": {},
   "outputs": [],
   "source": [
    "# this cell exists because of the most annoying bug ever:\n",
    "# the loss for pgd updates needed to not be averaged so that each input\n",
    "# was worked on independently of the batch size\n",
    "\n",
    "# display_im(images[0].cpu())\n",
    "# print(cifar_labels[labels[0].item()])\n",
    "# print(cifar_labels[torch.argmax(model(images[0].view(-1,3,32,32))).item()])\n",
    "# print(torch.min(images[0]), torch.max(images[0]))\n",
    "# adv = pgd(images.view(1000,3,32,32), labels, model, stepsize=2.5 * 100 / 7, eps=100, steps=7, constraint='l_2')[0]\n",
    "# print(torch.min(adv), torch.max(adv))\n",
    "# # adv = fgsm(image.view(1, 3, 32, 32), label, model, eps=.2)\n",
    "# # print(adv.shape)\n",
    "# print(torch.min(image - adv), torch.max(image - adv))\n",
    "# print(cifar_labels[torch.argmax(model(adv.view(1, 3,32,32))).item()])\n",
    "# display_im(adv.view(3,32,32).cpu())\n",
    "# display_im((image - adv).view(3, 32, 32).cpu())"
   ]
  },
  {
   "cell_type": "code",
   "execution_count": 8,
   "metadata": {},
   "outputs": [
    {
     "data": {
      "image/png": "[encoded data removed]",
      "text/plain": [
       "<Figure size 432x288 with 1 Axes>"
      ]
     },
     "metadata": {
      "needs_background": "light"
     },
     "output_type": "display_data"
    },
    {
     "name": "stdout",
     "output_type": "stream",
     "text": [
      "cat\n",
      "dog\n",
      "tensor(-2.1179, device='cuda:0') tensor(2.3786, device='cuda:0')\n",
      "tensor(-2.1951, device='cuda:0') tensor(2.4723, device='cuda:0')\n",
      "tensor(-0.5320, device='cuda:0') tensor(0.5222, device='cuda:0')\n",
      "dog"
     ]
    },
    {
     "name": "stderr",
     "output_type": "stream",
     "text": [
      "Clipping input data to the valid range for imshow with RGB data ([0..1] for floats or [0..255] for integers).\n"
     ]
    },
    {
     "name": "stdout",
     "output_type": "stream",
     "text": [
      "\n"
     ]
    },
    {
     "data": {
      "image/png": "[encoded data removed]",
      "text/plain": [
       "<Figure size 432x288 with 1 Axes>"
      ]
     },
     "metadata": {
      "needs_background": "light"
     },
     "output_type": "display_data"
    },
    {
     "data": {
      "image/png": "[encoded data removed]",
      "text/plain": [
       "<Figure size 432x288 with 1 Axes>"
      ]
     },
     "metadata": {
      "needs_background": "light"
     },
     "output_type": "display_data"
    }
   ],
   "source": [
    "display_im(image.cpu())\n",
    "print(cifar_labels[label.item()])\n",
    "print(cifar_labels[torch.argmax(model(image.view(-1,3,32,32))).item()])\n",
    "print(torch.min(image), torch.max(image))\n",
    "adv = pgd(image.view(1,3,32,32), label, model, stepsize=2.5 * 10 / 7, eps=10, steps=7, constraint='l_2')\n",
    "# adv = pgd(image.view(1,3,32,32), label, model, stepsize=.015, eps=.6, steps=40, constraint='l_inf')\n",
    "# adv = pgd(image.view(1,3,32,32), label, model, stepsize=0.1, eps=.5, steps=7, constraint='l_inf')\n",
    "print(torch.min(adv), torch.max(adv))\n",
    "# adv = fgsm(image.view(1, 3, 32, 32), label, model, eps=.2)\n",
    "# adv = pgd_attack(image.view(3,32,32), 5, model, stepsize=1, eps=60, steps=80, constraint='l_2')\n",
    "# print(torch.max(image - adv))\n",
    "# print(adv.shape)\n",
    "print(torch.min(image - adv), torch.max(image - adv))\n",
    "print(cifar_labels[torch.argmax(model(adv)).item()])\n",
    "display_im(adv.view(3,32,32).cpu())\n",
    "display_im((image - adv).view(3, 32, 32).cpu())"
   ]
  },
  {
   "cell_type": "code",
   "execution_count": 17,
   "metadata": {},
   "outputs": [
    {
     "data": {
      "image/png": "[encoded data removed]",
      "text/plain": [
       "<Figure size 432x288 with 1 Axes>"
      ]
     },
     "metadata": {
      "needs_background": "light"
     },
     "output_type": "display_data"
    },
    {
     "name": "stdout",
     "output_type": "stream",
     "text": [
      "torch.Size([1, 3, 32, 32]) torch.Size([1])\n"
     ]
    },
    {
     "data": {
      "image/png": "[encoded data removed]",
      "text/plain": [
       "<Figure size 432x288 with 1 Axes>"
      ]
     },
     "metadata": {
      "needs_background": "light"
     },
     "output_type": "display_data"
    },
    {
     "name": "stdout",
     "output_type": "stream",
     "text": [
      "bird\n"
     ]
    }
   ],
   "source": [
    "import imageio\n",
    "image = torch.Tensor(imageio.imread('deer.png')).permute(2, 0, 1).to(device) / 255.\n",
    "# print(image.shape)\n",
    "plt.imshow(image.permute(1, 2, 0).cpu())\n",
    "plt.show()\n",
    "label = torch.Tensor([6]).cuda().long()\n",
    "# adv = pgd(image.view(1,3,32,32), label, model, stepsize=1, eps=60, steps=80, constraint='l_2')\n",
    "# adv = pgd(image.view(1,3,32,32), label, model, stepsize=.015, eps=.6, steps=40, constraint='l_inf')\n",
    "# adv = pgd(image.view(1,3,32,32), label, model, stepsize=.03, eps=.1, steps=5, constraint='l_inf')\n",
    "\n",
    "# adv = fgsm(image.view(1, 3, 32, 32), label, model, eps=0.2)\n",
    "adv = pgd_attack(image.view(3,32,32), 4, model, stepsize=2.5 * 1000 / 100, eps=1000, steps=100, constraint='l_2')\n",
    "plt.imshow(adv.cpu().view(3, 32, 32).permute(1, 2, 0))\n",
    "plt.show()\n",
    "print(cifar_labels[torch.argmax(model(adv.view(1, 3, 32, 32))).item()])\n"
   ]
  }
 ],
 "metadata": {
  "kernelspec": {
   "display_name": "Python 3",
   "language": "python",
   "name": "python3"
  },
  "language_info": {
   "codemirror_mode": {
    "name": "ipython",
    "version": 3
   },
   "file_extension": ".py",
   "mimetype": "text/x-python",
   "name": "python",
   "nbconvert_exporter": "python",
   "pygments_lexer": "ipython3",
   "version": "3.7.6"
  }
 },
 "nbformat": 4,
 "nbformat_minor": 4
}
