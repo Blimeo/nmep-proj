{
 "cells": [
  {
   "cell_type": "code",
   "execution_count": 1,
   "metadata": {},
   "outputs": [],
   "source": [
    "import torch\n",
    "import torchvision.transforms as transforms\n",
    "from utils import *\n",
    "from models import *"
   ]
  },
  {
   "cell_type": "code",
   "execution_count": 2,
   "metadata": {},
   "outputs": [
    {
     "name": "stdout",
     "output_type": "stream",
     "text": [
      "cuda:0\n"
     ]
    }
   ],
   "source": [
    "device = torch.device(\"cuda:0\" if torch.cuda.is_available() else \"cpu\")\n",
    "print(device)"
   ]
  },
  {
   "cell_type": "code",
   "execution_count": 3,
   "metadata": {},
   "outputs": [
    {
     "name": "stdout",
     "output_type": "stream",
     "text": [
      "Files already downloaded and verified\n"
     ]
    }
   ],
   "source": [
    "test_transform = transforms.Compose([transforms.ToTensor(),\n",
    "                transforms.Normalize(mean=[0.485, 0.456, 0.406],\n",
    "                                     std=[0.229, 0.224, 0.225])\n",
    "])\n",
    "invertTransform = transforms.Compose([\n",
    "                                transforms.Normalize(mean = [ 0., 0., 0. ],\n",
    "                                                     std = [ 1/0.229, 1/0.224, 1/0.225 ]),\n",
    "                                transforms.Normalize(mean = [ -0.485, -0.456, -0.406 ],\n",
    "                                                     std = [ 1., 1., 1. ]),\n",
    "                               ])\n",
    "# test_transform = transforms.Compose([transforms.ToTensor()\n",
    "# ])\n",
    "\n",
    "test_data = torchvision.datasets.CIFAR10('data/', download=True, train=False, transform=test_transform)\n",
    "test_dataloader = torch.utils.data.DataLoader(test_data,\n",
    "                                          batch_size=4096, # just for test accuracy\n",
    "                                          shuffle=True)\n",
    "\n",
    "cifar_labels = {0:'airplane',1:'automobile',2:'bird',3:'cat',4:'deer',5:'dog',6:'frog',7:'horse',8:'ship',9:'truck'}"
   ]
  },
  {
   "cell_type": "code",
   "execution_count": 4,
   "metadata": {},
   "outputs": [
    {
     "name": "stderr",
     "output_type": "stream",
     "text": [
      "Using cache found in C:\\Users\\Oliver/.cache\\torch\\hub\\pytorch_vision_v0.6.0\n"
     ]
    },
    {
     "name": "stdout",
     "output_type": "stream",
     "text": [
      "\n"
     ]
    }
   ],
   "source": [
    "model = ResNet('50').to(device)\n",
    "model.load_state_dict(torch.load('models/resnet50_l2eps=10/55')) # 20 omg\n",
    "model.eval()\n",
    "print()"
   ]
  },
  {
   "cell_type": "code",
   "execution_count": 5,
   "metadata": {},
   "outputs": [],
   "source": [
    "# test_acc = accuracy(model, test_dataloader, device)\n",
    "# fgsm_acc = fgsm_accuracy(model, test_dataloader, device)\n",
    "# pgd_acc = pgd_accuracy(model, test_dataloader, device, eps=10, steps=3, alpha=0.1)\n",
    "# print('Normal Test Accuray:', test_acc)\n",
    "# print('FGSM Test Accuracy:', fgsm_acc)\n",
    "# print('PGD Test Accuracy:', pgd_acc)"
   ]
  },
  {
   "cell_type": "code",
   "execution_count": 6,
   "metadata": {},
   "outputs": [],
   "source": [
    "it = iter(test_dataloader)\n",
    "i, l = it.next()\n",
    "images, labels = i[0:2].to(device), l[0:2].view(2).to(device)\n",
    "image, label = images[0], labels[0].view(1)\n"
   ]
  },
  {
   "cell_type": "code",
   "execution_count": 7,
   "metadata": {},
   "outputs": [],
   "source": [
    "# this cell exists because of the most annoying bug ever:\n",
    "# the loss for pgd updates needed to not be averaged so that each input\n",
    "# was worked on independently of the batch size\n",
    "\n",
    "# display_im(images[0].cpu())\n",
    "# print(cifar_labels[labels[0].item()])\n",
    "# print(cifar_labels[torch.argmax(model(images[0].view(-1,3,32,32))).item()])\n",
    "# print(torch.min(images[0]), torch.max(images[0]))\n",
    "# adv = pgd(images.view(1000,3,32,32), labels, model, stepsize=2.5 * 100 / 7, eps=100, steps=7, constraint='l_2')[0]\n",
    "# print(torch.min(adv), torch.max(adv))\n",
    "# # adv = fgsm(image.view(1, 3, 32, 32), label, model, eps=.2)\n",
    "# # print(adv.shape)\n",
    "# print(torch.min(image - adv), torch.max(image - adv))\n",
    "# print(cifar_labels[torch.argmax(model(adv.view(1, 3,32,32))).item()])\n",
    "# display_im(adv.view(3,32,32).cpu())\n",
    "# display_im((image - adv).view(3, 32, 32).cpu())"
   ]
  },
  {
   "cell_type": "code",
   "execution_count": 8,
   "metadata": {},
   "outputs": [
    {
     "data": {
      "image/png": "[encoded data removed]",
      "text/plain": [
       "<Figure size 432x288 with 1 Axes>"
      ]
     },
     "metadata": {
      "needs_background": "light"
     },
     "output_type": "display_data"
    },
    {
     "name": "stdout",
     "output_type": "stream",
     "text": [
      "deer\n",
      "frog\n",
      "tensor(-2.1179, device='cuda:0') tensor(1.1062, device='cuda:0')\n"
     ]
    },
    {
     "name": "stderr",
     "output_type": "stream",
     "text": [
      "Clipping input data to the valid range for imshow with RGB data ([0..1] for floats or [0..255] for integers).\n"
     ]
    },
    {
     "name": "stdout",
     "output_type": "stream",
     "text": [
      "tensor(-2.2589, device='cuda:0') tensor(1.2646, device='cuda:0')\n",
      "tensor(-0.2053, device='cuda:0') tensor(0.2017, device='cuda:0')\n",
      "frog\n"
     ]
    },
    {
     "data": {
      "image/png": "[encoded data removed]",
      "text/plain": [
       "<Figure size 432x288 with 1 Axes>"
      ]
     },
     "metadata": {
      "needs_background": "light"
     },
     "output_type": "display_data"
    },
    {
     "data": {
      "image/png": "[encoded data removed]",
      "text/plain": [
       "<Figure size 432x288 with 1 Axes>"
      ]
     },
     "metadata": {
      "needs_background": "light"
     },
     "output_type": "display_data"
    }
   ],
   "source": [
    "display_im(image.cpu())\n",
    "print(cifar_labels[label.item()])\n",
    "print(cifar_labels[torch.argmax(model(image.view(-1,3,32,32))).item()])\n",
    "print(torch.min(image), torch.max(image))\n",
    "adv = pgd(image.view(1,3,32,32), label, model, stepsize=2.5 * 10 / 7, eps=10, steps=7, constraint='l_2')\n",
    "# adv = pgd(image.view(1,3,32,32), label, model, stepsize=.015, eps=.6, steps=40, constraint='l_inf')\n",
    "# adv = pgd(image.view(1,3,32,32), label, model, stepsize=0.1, eps=.5, steps=7, constraint='l_inf')\n",
    "print(torch.min(adv), torch.max(adv))\n",
    "# adv = fgsm(image.view(1, 3, 32, 32), label, model, eps=.2)\n",
    "# adv = pgd_attack(image.view(3,32,32), 5, model, stepsize=1, eps=60, steps=80, constraint='l_2')\n",
    "# print(torch.max(image - adv))\n",
    "# print(adv.shape)\n",
    "print(torch.min(image - adv), torch.max(image - adv))\n",
    "print(cifar_labels[torch.argmax(model(adv)).item()])\n",
    "display_im(adv.view(3,32,32).cpu())\n",
    "display_im((image - adv).view(3, 32, 32).cpu())"
   ]
  },
  {
   "cell_type": "markdown",
   "metadata": {},
   "source": [
    "## Sketch Completion"
   ]
  },
  {
   "cell_type": "code",
   "execution_count": 184,
   "metadata": {},
   "outputs": [
    {
     "name": "stderr",
     "output_type": "stream",
     "text": [
      "Using cache found in C:\\Users\\Oliver/.cache\\torch\\hub\\pytorch_vision_v0.6.0\n"
     ]
    },
    {
     "data": {
      "image/png": "[encoded data removed]",
      "text/plain": [
       "<Figure size 432x288 with 1 Axes>"
      ]
     },
     "metadata": {
      "needs_background": "light"
     },
     "output_type": "display_data"
    },
    {
     "name": "stdout",
     "output_type": "stream",
     "text": [
      "torch.Size([1, 3, 32, 32]) torch.Size([1])\n"
     ]
    },
    {
     "data": {
      "image/png": "[encoded data removed]",
      "text/plain": [
       "<Figure size 432x288 with 1 Axes>"
      ]
     },
     "metadata": {
      "needs_background": "light"
     },
     "output_type": "display_data"
    },
    {
     "name": "stdout",
     "output_type": "stream",
     "text": [
      "bird\n"
     ]
    }
   ],
   "source": [
    "import imageio\n",
    "from torchvision.utils import save_image\n",
    "model = ResNet('18').to(device)\n",
    "model.load_state_dict(torch.load('models/resnet18_l2eps=50/65'))\n",
    "model.eval()\n",
    "image = torch.Tensor(imageio.imread('deer.png')).permute(2, 0, 1).to(device) / 255.\n",
    "# print(image.shape)\n",
    "plt.imshow(image.permute(1, 2, 0).cpu())\n",
    "plt.show()\n",
    "label = torch.Tensor([6]).to(device).long()\n",
    "# adv = pgd(image.view(1,3,32,32), label, model, stepsize=1, eps=60, steps=80, constraint='l_2')\n",
    "# adv = pgd(image.view(1,3,32,32), label, model, stepsize=.015, eps=.6, steps=40, constraint='l_inf')\n",
    "# adv = pgd(image.view(1,3,32,32), label, model, stepsize=.03, eps=.1, steps=5, constraint='l_inf')\n",
    "eps=5000\n",
    "steps=100\n",
    "# adv = fgsm(image.view(1, 3, 32, 32), label, model, eps=0.2)\n",
    "adv = pgd_attack(image.view(3,32,32), 4, model, stepsize=2.5 * eps / steps, eps=eps, steps=steps, constraint='l_2')\n",
    "plt.imshow(adv.cpu().view(3, 32, 32).permute(1, 2, 0))\n",
    "plt.show()\n",
    "print(cifar_labels[torch.argmax(model(adv.view(1, 3, 32, 32))).item()])\n",
    "\n",
    "upsample = transforms.Compose([transforms.ToPILImage(), transforms.Resize(480, interpolation=2), transforms.ToTensor()])\n",
    "\n",
    "torchvision.utils.save_image(upsample(adv.cpu()), 'saved.png')\n"
   ]
  },
  {
   "cell_type": "code",
   "execution_count": 179,
   "metadata": {},
   "outputs": [
    {
     "name": "stderr",
     "output_type": "stream",
     "text": [
      "Using cache found in C:\\Users\\Oliver/.cache\\torch\\hub\\pytorch_vision_v0.6.0\n"
     ]
    },
    {
     "name": "stdout",
     "output_type": "stream",
     "text": [
      "torch.Size([1, 3, 32, 32]) torch.Size([1])\n",
      "0\n"
     ]
    },
    {
     "data": {
      "image/png": "[encoded data removed]",
      "text/plain": [
       "<Figure size 432x288 with 1 Axes>"
      ]
     },
     "metadata": {
      "needs_background": "light"
     },
     "output_type": "display_data"
    },
    {
     "name": "stdout",
     "output_type": "stream",
     "text": [
      "cat\n"
     ]
    },
    {
     "name": "stderr",
     "output_type": "stream",
     "text": [
      "Using cache found in C:\\Users\\Oliver/.cache\\torch\\hub\\pytorch_vision_v0.6.0\n"
     ]
    },
    {
     "name": "stdout",
     "output_type": "stream",
     "text": [
      "torch.Size([1, 3, 32, 32]) torch.Size([1])\n",
      "5\n"
     ]
    },
    {
     "data": {
      "image/png": "[encoded data removed]",
      "text/plain": [
       "<Figure size 432x288 with 1 Axes>"
      ]
     },
     "metadata": {
      "needs_background": "light"
     },
     "output_type": "display_data"
    },
    {
     "name": "stdout",
     "output_type": "stream",
     "text": [
      "ship\n"
     ]
    },
    {
     "name": "stderr",
     "output_type": "stream",
     "text": [
      "Using cache found in C:\\Users\\Oliver/.cache\\torch\\hub\\pytorch_vision_v0.6.0\n"
     ]
    },
    {
     "name": "stdout",
     "output_type": "stream",
     "text": [
      "torch.Size([1, 3, 32, 32]) torch.Size([1])\n",
      "10\n"
     ]
    },
    {
     "data": {
      "image/png": "[encoded data removed]",
      "text/plain": [
       "<Figure size 432x288 with 1 Axes>"
      ]
     },
     "metadata": {
      "needs_background": "light"
     },
     "output_type": "display_data"
    },
    {
     "name": "stdout",
     "output_type": "stream",
     "text": [
      "airplane\n"
     ]
    },
    {
     "name": "stderr",
     "output_type": "stream",
     "text": [
      "Using cache found in C:\\Users\\Oliver/.cache\\torch\\hub\\pytorch_vision_v0.6.0\n"
     ]
    },
    {
     "name": "stdout",
     "output_type": "stream",
     "text": [
      "torch.Size([1, 3, 32, 32]) torch.Size([1])\n",
      "15\n"
     ]
    },
    {
     "data": {
      "image/png": "[encoded data removed]",
      "text/plain": [
       "<Figure size 432x288 with 1 Axes>"
      ]
     },
     "metadata": {
      "needs_background": "light"
     },
     "output_type": "display_data"
    },
    {
     "name": "stdout",
     "output_type": "stream",
     "text": [
      "bird\n"
     ]
    },
    {
     "name": "stderr",
     "output_type": "stream",
     "text": [
      "Using cache found in C:\\Users\\Oliver/.cache\\torch\\hub\\pytorch_vision_v0.6.0\n"
     ]
    },
    {
     "name": "stdout",
     "output_type": "stream",
     "text": [
      "torch.Size([1, 3, 32, 32]) torch.Size([1])\n",
      "20\n"
     ]
    },
    {
     "data": {
      "image/png": "[encoded data removed]",
      "text/plain": [
       "<Figure size 432x288 with 1 Axes>"
      ]
     },
     "metadata": {
      "needs_background": "light"
     },
     "output_type": "display_data"
    },
    {
     "name": "stdout",
     "output_type": "stream",
     "text": [
      "ship\n"
     ]
    },
    {
     "name": "stderr",
     "output_type": "stream",
     "text": [
      "Using cache found in C:\\Users\\Oliver/.cache\\torch\\hub\\pytorch_vision_v0.6.0\n"
     ]
    },
    {
     "name": "stdout",
     "output_type": "stream",
     "text": [
      "torch.Size([1, 3, 32, 32]) torch.Size([1])\n",
      "25\n"
     ]
    },
    {
     "data": {
      "image/png": "[encoded data removed]",
      "text/plain": [
       "<Figure size 432x288 with 1 Axes>"
      ]
     },
     "metadata": {
      "needs_background": "light"
     },
     "output_type": "display_data"
    },
    {
     "name": "stdout",
     "output_type": "stream",
     "text": [
      "airplane\n"
     ]
    },
    {
     "name": "stderr",
     "output_type": "stream",
     "text": [
      "Using cache found in C:\\Users\\Oliver/.cache\\torch\\hub\\pytorch_vision_v0.6.0\n"
     ]
    },
    {
     "name": "stdout",
     "output_type": "stream",
     "text": [
      "torch.Size([1, 3, 32, 32]) torch.Size([1])\n",
      "30\n"
     ]
    },
    {
     "data": {
      "image/png": "[encoded data removed]",
      "text/plain": [
       "<Figure size 432x288 with 1 Axes>"
      ]
     },
     "metadata": {
      "needs_background": "light"
     },
     "output_type": "display_data"
    },
    {
     "name": "stdout",
     "output_type": "stream",
     "text": [
      "bird\n"
     ]
    },
    {
     "name": "stderr",
     "output_type": "stream",
     "text": [
      "Using cache found in C:\\Users\\Oliver/.cache\\torch\\hub\\pytorch_vision_v0.6.0\n"
     ]
    },
    {
     "name": "stdout",
     "output_type": "stream",
     "text": [
      "torch.Size([1, 3, 32, 32]) torch.Size([1])\n",
      "35\n"
     ]
    },
    {
     "data": {
      "image/png": "[encoded data removed]",
      "text/plain": [
       "<Figure size 432x288 with 1 Axes>"
      ]
     },
     "metadata": {
      "needs_background": "light"
     },
     "output_type": "display_data"
    },
    {
     "name": "stdout",
     "output_type": "stream",
     "text": [
      "ship\n"
     ]
    },
    {
     "name": "stderr",
     "output_type": "stream",
     "text": [
      "Using cache found in C:\\Users\\Oliver/.cache\\torch\\hub\\pytorch_vision_v0.6.0\n"
     ]
    },
    {
     "name": "stdout",
     "output_type": "stream",
     "text": [
      "torch.Size([1, 3, 32, 32]) torch.Size([1])\n",
      "40\n"
     ]
    },
    {
     "data": {
      "image/png": "[encoded data removed]",
      "text/plain": [
       "<Figure size 432x288 with 1 Axes>"
      ]
     },
     "metadata": {
      "needs_background": "light"
     },
     "output_type": "display_data"
    },
    {
     "name": "stdout",
     "output_type": "stream",
     "text": [
      "airplane\n"
     ]
    },
    {
     "name": "stderr",
     "output_type": "stream",
     "text": [
      "Using cache found in C:\\Users\\Oliver/.cache\\torch\\hub\\pytorch_vision_v0.6.0\n"
     ]
    },
    {
     "name": "stdout",
     "output_type": "stream",
     "text": [
      "torch.Size([1, 3, 32, 32]) torch.Size([1])\n",
      "45\n"
     ]
    },
    {
     "data": {
      "image/png": "[encoded data removed]",
      "text/plain": [
       "<Figure size 432x288 with 1 Axes>"
      ]
     },
     "metadata": {
      "needs_background": "light"
     },
     "output_type": "display_data"
    },
    {
     "name": "stdout",
     "output_type": "stream",
     "text": [
      "airplane\n"
     ]
    },
    {
     "name": "stderr",
     "output_type": "stream",
     "text": [
      "Using cache found in C:\\Users\\Oliver/.cache\\torch\\hub\\pytorch_vision_v0.6.0\n"
     ]
    },
    {
     "name": "stdout",
     "output_type": "stream",
     "text": [
      "torch.Size([1, 3, 32, 32]) torch.Size([1])\n",
      "50\n"
     ]
    },
    {
     "data": {
      "image/png": "[encoded data removed]",
      "text/plain": [
       "<Figure size 432x288 with 1 Axes>"
      ]
     },
     "metadata": {
      "needs_background": "light"
     },
     "output_type": "display_data"
    },
    {
     "name": "stdout",
     "output_type": "stream",
     "text": [
      "airplane\n"
     ]
    },
    {
     "name": "stderr",
     "output_type": "stream",
     "text": [
      "Using cache found in C:\\Users\\Oliver/.cache\\torch\\hub\\pytorch_vision_v0.6.0\n"
     ]
    },
    {
     "name": "stdout",
     "output_type": "stream",
     "text": [
      "torch.Size([1, 3, 32, 32]) torch.Size([1])\n",
      "55\n"
     ]
    },
    {
     "data": {
      "image/png": "[encoded data removed]",
      "text/plain": [
       "<Figure size 432x288 with 1 Axes>"
      ]
     },
     "metadata": {
      "needs_background": "light"
     },
     "output_type": "display_data"
    },
    {
     "name": "stdout",
     "output_type": "stream",
     "text": [
      "airplane\n"
     ]
    },
    {
     "name": "stderr",
     "output_type": "stream",
     "text": [
      "Using cache found in C:\\Users\\Oliver/.cache\\torch\\hub\\pytorch_vision_v0.6.0\n"
     ]
    },
    {
     "name": "stdout",
     "output_type": "stream",
     "text": [
      "torch.Size([1, 3, 32, 32]) torch.Size([1])\n",
      "60\n"
     ]
    },
    {
     "data": {
      "image/png": "[encoded data removed]",
      "text/plain": [
       "<Figure size 432x288 with 1 Axes>"
      ]
     },
     "metadata": {
      "needs_background": "light"
     },
     "output_type": "display_data"
    },
    {
     "name": "stdout",
     "output_type": "stream",
     "text": [
      "airplane\n"
     ]
    },
    {
     "name": "stderr",
     "output_type": "stream",
     "text": [
      "Using cache found in C:\\Users\\Oliver/.cache\\torch\\hub\\pytorch_vision_v0.6.0\n"
     ]
    },
    {
     "name": "stdout",
     "output_type": "stream",
     "text": [
      "torch.Size([1, 3, 32, 32]) torch.Size([1])\n",
      "65\n"
     ]
    },
    {
     "data": {
      "image/png": "[encoded data removed]",
      "text/plain": [
       "<Figure size 432x288 with 1 Axes>"
      ]
     },
     "metadata": {
      "needs_background": "light"
     },
     "output_type": "display_data"
    },
    {
     "name": "stdout",
     "output_type": "stream",
     "text": [
      "bird\n"
     ]
    },
    {
     "name": "stderr",
     "output_type": "stream",
     "text": [
      "Using cache found in C:\\Users\\Oliver/.cache\\torch\\hub\\pytorch_vision_v0.6.0\n"
     ]
    },
    {
     "name": "stdout",
     "output_type": "stream",
     "text": [
      "torch.Size([1, 3, 32, 32]) torch.Size([1])\n",
      "70\n"
     ]
    },
    {
     "data": {
      "image/png": "[encoded data removed]",
      "text/plain": [
       "<Figure size 432x288 with 1 Axes>"
      ]
     },
     "metadata": {
      "needs_background": "light"
     },
     "output_type": "display_data"
    },
    {
     "name": "stdout",
     "output_type": "stream",
     "text": [
      "airplane\n"
     ]
    },
    {
     "name": "stderr",
     "output_type": "stream",
     "text": [
      "Using cache found in C:\\Users\\Oliver/.cache\\torch\\hub\\pytorch_vision_v0.6.0\n"
     ]
    },
    {
     "name": "stdout",
     "output_type": "stream",
     "text": [
      "torch.Size([1, 3, 32, 32]) torch.Size([1])\n",
      "75\n"
     ]
    },
    {
     "data": {
      "image/png": "[encoded data removed]",
      "text/plain": [
       "<Figure size 432x288 with 1 Axes>"
      ]
     },
     "metadata": {
      "needs_background": "light"
     },
     "output_type": "display_data"
    },
    {
     "name": "stdout",
     "output_type": "stream",
     "text": [
      "bird\n"
     ]
    },
    {
     "name": "stderr",
     "output_type": "stream",
     "text": [
      "Using cache found in C:\\Users\\Oliver/.cache\\torch\\hub\\pytorch_vision_v0.6.0\n"
     ]
    },
    {
     "name": "stdout",
     "output_type": "stream",
     "text": [
      "torch.Size([1, 3, 32, 32]) torch.Size([1])\n",
      "80\n"
     ]
    },
    {
     "data": {
      "image/png": "[encoded data removed]",
      "text/plain": [
       "<Figure size 432x288 with 1 Axes>"
      ]
     },
     "metadata": {
      "needs_background": "light"
     },
     "output_type": "display_data"
    },
    {
     "name": "stdout",
     "output_type": "stream",
     "text": [
      "airplane\n"
     ]
    },
    {
     "name": "stderr",
     "output_type": "stream",
     "text": [
      "Using cache found in C:\\Users\\Oliver/.cache\\torch\\hub\\pytorch_vision_v0.6.0\n"
     ]
    },
    {
     "name": "stdout",
     "output_type": "stream",
     "text": [
      "torch.Size([1, 3, 32, 32]) torch.Size([1])\n",
      "85\n"
     ]
    },
    {
     "data": {
      "image/png": "[encoded data removed]",
      "text/plain": [
       "<Figure size 432x288 with 1 Axes>"
      ]
     },
     "metadata": {
      "needs_background": "light"
     },
     "output_type": "display_data"
    },
    {
     "name": "stdout",
     "output_type": "stream",
     "text": [
      "bird\n"
     ]
    },
    {
     "name": "stderr",
     "output_type": "stream",
     "text": [
      "Using cache found in C:\\Users\\Oliver/.cache\\torch\\hub\\pytorch_vision_v0.6.0\n"
     ]
    },
    {
     "name": "stdout",
     "output_type": "stream",
     "text": [
      "torch.Size([1, 3, 32, 32]) torch.Size([1])\n",
      "90\n"
     ]
    },
    {
     "data": {
      "image/png": "[encoded data removed]",
      "text/plain": [
       "<Figure size 432x288 with 1 Axes>"
      ]
     },
     "metadata": {
      "needs_background": "light"
     },
     "output_type": "display_data"
    },
    {
     "name": "stdout",
     "output_type": "stream",
     "text": [
      "bird\n"
     ]
    },
    {
     "name": "stderr",
     "output_type": "stream",
     "text": [
      "Using cache found in C:\\Users\\Oliver/.cache\\torch\\hub\\pytorch_vision_v0.6.0\n"
     ]
    },
    {
     "name": "stdout",
     "output_type": "stream",
     "text": [
      "torch.Size([1, 3, 32, 32]) torch.Size([1])\n",
      "95\n"
     ]
    },
    {
     "data": {
      "image/png": "[encoded data removed]",
      "text/plain": [
       "<Figure size 432x288 with 1 Axes>"
      ]
     },
     "metadata": {
      "needs_background": "light"
     },
     "output_type": "display_data"
    },
    {
     "name": "stdout",
     "output_type": "stream",
     "text": [
      "bird\n"
     ]
    }
   ],
   "source": [
    "for i in range(0,100,5):\n",
    "    model = ResNet('18').to(device)\n",
    "    model.load_state_dict(torch.load('models/resnet18_l2eps=50/' + str(i))) # 20 omg\n",
    "    model.eval()\n",
    "    eps=5000\n",
    "    c = 9\n",
    "    adv = pgd_attack(image.view(3,32,32), c, model, stepsize=2.5 * eps / 100, eps=eps, steps=100, constraint='l_2')\n",
    "    print(i)\n",
    "    plt.imshow(adv.cpu().view(3, 32, 32).permute(1, 2, 0))\n",
    "    plt.show()\n",
    "    print(cifar_labels[torch.argmax(model(adv.view(1, 3, 32, 32))).item()])\n",
    "    \n"
   ]
  },
  {
   "cell_type": "markdown",
   "metadata": {},
   "source": [
    "## Generation"
   ]
  },
  {
   "cell_type": "code",
   "execution_count": 213,
   "metadata": {},
   "outputs": [
    {
     "name": "stdout",
     "output_type": "stream",
     "text": [
      "Files already downloaded and verified\n",
      "[tensor([0.3652, 0.3480, 0.3585,  ..., 0.5910, 0.5865, 0.5958]), tensor([0.2235, 0.2185, 0.2377,  ..., 0.3707, 0.3853, 0.4038]), tensor([0.0215, 0.0243, 0.0425,  ..., 0.0642, 0.0581, 0.0577]), tensor([-0.0398, -0.0400, -0.0246,  ...,  0.1563,  0.1397,  0.1316]), tensor([-0.2834, -0.2802, -0.2570,  ..., -0.0497, -0.0545, -0.0628]), tensor([-0.2637, -0.2737, -0.2566,  ...,  0.0415,  0.0263,  0.0210]), tensor([-0.1469, -0.1621, -0.1531,  ..., -0.0302, -0.0331, -0.0263]), tensor([0.1936, 0.1705, 0.1820,  ..., 0.0509, 0.0605, 0.0856]), tensor([0.3870, 0.3714, 0.3875,  ..., 0.2072, 0.2264, 0.2503]), tensor([0.7477, 0.7304, 0.7461,  ..., 0.3936, 0.4132, 0.4346])] [tensor([[2.2492, 2.1978, 2.1637,  ..., 0.4716, 0.4830, 0.5102],\n",
      "        [2.1978, 2.2035, 2.1794,  ..., 0.4465, 0.4568, 0.4768],\n",
      "        [2.1637, 2.1794, 2.1978,  ..., 0.4334, 0.4386, 0.4558],\n",
      "        ...,\n",
      "        [0.4716, 0.4465, 0.4334,  ..., 2.5051, 2.4786, 2.4385],\n",
      "        [0.4830, 0.4568, 0.4386,  ..., 2.4786, 2.5076, 2.4866],\n",
      "        [0.5102, 0.4768, 0.4558,  ..., 2.4385, 2.4866, 2.5371]]), tensor([[3.0550, 2.9238, 2.7979,  ..., 0.9263, 0.9518, 0.9853],\n",
      "        [2.9238, 2.9811, 2.8911,  ..., 0.9077, 0.9345, 0.9670],\n",
      "        [2.7979, 2.8911, 2.9847,  ..., 0.8965, 0.9223, 0.9538],\n",
      "        ...,\n",
      "        [0.9263, 0.9077, 0.8965,  ..., 2.2570, 2.2159, 2.1539],\n",
      "        [0.9518, 0.9345, 0.9223,  ..., 2.2159, 2.2440, 2.2110],\n",
      "        [0.9853, 0.9670, 0.9538,  ..., 2.1539, 2.2110, 2.2622]]), tensor([[1.9908, 1.9168, 1.8423,  ..., 0.6934, 0.7225, 0.7714],\n",
      "        [1.9168, 1.9374, 1.8817,  ..., 0.6826, 0.7106, 0.7442],\n",
      "        [1.8423, 1.8817, 1.9117,  ..., 0.6741, 0.6981, 0.7289],\n",
      "        ...,\n",
      "        [0.6934, 0.6826, 0.6741,  ..., 1.9694, 1.9239, 1.8678],\n",
      "        [0.7225, 0.7106, 0.6981,  ..., 1.9239, 2.0042, 1.9731],\n",
      "        [0.7714, 0.7442, 0.7289,  ..., 1.8678, 1.9731, 2.0757]]), tensor([[2.7363, 2.6149, 2.4879,  ..., 0.7899, 0.8243, 0.8732],\n",
      "        [2.6149, 2.6517, 2.5637,  ..., 0.7715, 0.8010, 0.8375],\n",
      "        [2.4879, 2.5637, 2.6239,  ..., 0.7578, 0.7833, 0.8100],\n",
      "        ...,\n",
      "        [0.7899, 0.7715, 0.7578,  ..., 2.5716, 2.5146, 2.4204],\n",
      "        [0.8243, 0.8010, 0.7833,  ..., 2.5146, 2.6026, 2.5560],\n",
      "        [0.8732, 0.8375, 0.8100,  ..., 2.4204, 2.5560, 2.6579]]), tensor([[2.0184, 1.9223, 1.8352,  ..., 0.3671, 0.3782, 0.4218],\n",
      "        [1.9223, 1.9544, 1.8870,  ..., 0.3473, 0.3523, 0.3863],\n",
      "        [1.8352, 1.8870, 1.9388,  ..., 0.3371, 0.3412, 0.3720],\n",
      "        ...,\n",
      "        [0.3671, 0.3473, 0.3371,  ..., 1.4768, 1.4486, 1.4064],\n",
      "        [0.3782, 0.3523, 0.3412,  ..., 1.4486, 1.5051, 1.4747],\n",
      "        [0.4218, 0.3863, 0.3720,  ..., 1.4064, 1.4747, 1.5504]]), tensor([[2.3274, 2.2230, 2.1115,  ..., 0.5866, 0.6214, 0.6846],\n",
      "        [2.2230, 2.2637, 2.1891,  ..., 0.5631, 0.5945, 0.6449],\n",
      "        [2.1115, 2.1891, 2.2443,  ..., 0.5455, 0.5677, 0.6093],\n",
      "        ...,\n",
      "        [0.5866, 0.5631, 0.5455,  ..., 2.0393, 1.9903, 1.9142],\n",
      "        [0.6214, 0.5945, 0.5677,  ..., 1.9903, 2.0562, 2.0205],\n",
      "        [0.6846, 0.6449, 0.6093,  ..., 1.9142, 2.0205, 2.1131]]), tensor([[2.2752, 2.1693, 2.0706,  ..., 1.0706, 1.0734, 1.1117],\n",
      "        [2.1693, 2.2098, 2.1349,  ..., 1.0574, 1.0585, 1.0809],\n",
      "        [2.0706, 2.1349, 2.2061,  ..., 1.0527, 1.0537, 1.0725],\n",
      "        ...,\n",
      "        [1.0706, 1.0574, 1.0527,  ..., 2.1181, 2.0563, 1.9830],\n",
      "        [1.0734, 1.0585, 1.0537,  ..., 2.0563, 2.1381, 2.0866],\n",
      "        [1.1117, 1.0809, 1.0725,  ..., 1.9830, 2.0866, 2.1933]]), tensor([[2.7463, 2.6194, 2.5122,  ..., 0.2736, 0.3143, 0.3760],\n",
      "        [2.6194, 2.6736, 2.5945,  ..., 0.2468, 0.2839, 0.3094],\n",
      "        [2.5122, 2.5945, 2.6438,  ..., 0.2218, 0.2562, 0.2757],\n",
      "        ...,\n",
      "        [0.2736, 0.2468, 0.2218,  ..., 1.5406, 1.5133, 1.4670],\n",
      "        [0.3143, 0.2839, 0.2562,  ..., 1.5133, 1.5798, 1.5572],\n",
      "        [0.3760, 0.3094, 0.2757,  ..., 1.4670, 1.5572, 1.6723]]), tensor([[2.1603, 2.1099, 2.0731,  ..., 0.4920, 0.5144, 0.5395],\n",
      "        [2.1099, 2.1180, 2.0965,  ..., 0.4827, 0.5052, 0.5230],\n",
      "        [2.0731, 2.0965, 2.1197,  ..., 0.4805, 0.5000, 0.5149],\n",
      "        ...,\n",
      "        [0.4920, 0.4827, 0.4805,  ..., 1.5456, 1.5082, 1.4523],\n",
      "        [0.5144, 0.5052, 0.5000,  ..., 1.5082, 1.5487, 1.5251],\n",
      "        [0.5395, 0.5230, 0.5149,  ..., 1.4523, 1.5251, 1.5913]]), tensor([[2.6056, 2.5142, 2.4259,  ..., 0.5298, 0.5569, 0.5948],\n",
      "        [2.5142, 2.5436, 2.4788,  ..., 0.5063, 0.5324, 0.5661],\n",
      "        [2.4259, 2.4788, 2.5355,  ..., 0.5024, 0.5284, 0.5601],\n",
      "        ...,\n",
      "        [0.5298, 0.5063, 0.5024,  ..., 2.1495, 2.1127, 2.0612],\n",
      "        [0.5569, 0.5324, 0.5284,  ..., 2.1127, 2.1583, 2.1382],\n",
      "        [0.5948, 0.5661, 0.5601,  ..., 2.0612, 2.1382, 2.2101]])]\n"
     ]
    }
   ],
   "source": [
    "# def covariance(tensors, mean):\n",
    "#     print(tensors, mean)\n",
    "#     M = (tensors - mean).view(-1, 1)\n",
    "#     return (M @ M.T) / (len(M) - 1)\n",
    "\n",
    "# def get_priors(dataset):\n",
    "#     n_classes = 10\n",
    "#     im_size = 32\n",
    "#     im_len = 3*im_size**2\n",
    "#     covs = [0] * n_classes\n",
    "#     base = torch.zeros((n_classes, im_len))\n",
    "#     for batch in dataset:\n",
    "#         images, labels = batch[0].view(-1, im_len), batch[1]\n",
    "#         for i in range(len(images)):\n",
    "#             base[labels[i]] += images[i]\n",
    "#     means = base / im_len\n",
    "\n",
    "#     for batch in dataset:\n",
    "#         images, labels = batch[0].view(-1, im_len), batch[1]\n",
    "#         for i in range(len(images)):\n",
    "#             for c in range(n_classes):\n",
    "#                 covs[c] += (images[i] - means[c]).view(-1, 1) @ (images[i] - means[c]).view(-1,1).T / im_len\n",
    "\n",
    "# #     for c in range(n_classes):\n",
    "# #         cov.append(covariance(base[c], mean[c]))\n",
    "#     print(means.shape, covs[0].shape)\n",
    "#     return means, covs\n",
    "\n",
    "# def generate_from_prior(dataset, c):\n",
    "#     means, covs = get_priors(dataset)\n",
    "#     print(covs[0])\n",
    "#     im_len = len(means[0])\n",
    "#     mean, cov = means[c].view(-1, 1), covs[c] + 1e-2 * torch.eye(im_len)\n",
    "#     dist = torch.distributions.multivariate_normal.MultivariateNormal(mean, cov)\n",
    "#     im = dist.rsample((1,)).view(3,32,32)\n",
    "#     return im\n",
    "\n",
    "def remove_dataloader(dataloader):\n",
    "    base_images, base_labels = [], []\n",
    "    for batch in dataloader:\n",
    "        images, labels = batch[0], batch[1]\n",
    "        base_images.append(images)\n",
    "        base_labels.append(labels)\n",
    "        \n",
    "    return torch.cat(base_images), torch.cat(base_labels)\n",
    "\n",
    "def include(labels, c):\n",
    "    included = []\n",
    "    for i in range(len(labels)):\n",
    "        if labels[i] == c:\n",
    "            included.append(i)\n",
    "    return included\n",
    "\n",
    "def class_gaussians(images, labels, classes):\n",
    "    means = []\n",
    "    covariance = []\n",
    "    \n",
    "    for c in range(classes):\n",
    "        included = include(labels, c)\n",
    "        class_images = images[included].view(len(included), -1)\n",
    "        \n",
    "        means.append(torch.mean(class_images, dim=0))\n",
    "        covariance.append(((class_images - means[-1]).T @ (class_images - means[-1]) + 0.001 * torch.eye(len(means[-1]))) / len(means[-1]))\n",
    "\n",
    "    return means, covariance\n",
    "\n",
    "def generate_conditionals(n, c, images, labels, classes):\n",
    "    means, covariance = class_gaussians(images, labels, classes)\n",
    "    m = torch.distributions.multivariate_normal.MultivariateNormal(means[c], covariance[c])\n",
    "    return m.sample((n, )).view(-1, 3, 32, 32)\n",
    "    \n",
    "    \n",
    "\n",
    "train_data = torchvision.datasets.CIFAR10('data/', download=True, train=True, transform=test_transform)\n",
    "train_dataloader = torch.utils.data.DataLoader(train_data,\n",
    "                                          batch_size=4096, # just for test accuracy\n",
    "                                          shuffle=False)\n",
    "# means, cov = get_priors(train_dataloader)\n",
    "images, labels = remove_dataloader(train_dataloader)\n",
    "im = generate_conditionals(10, 6, images, labels, 10)\n",
    "# im = generate_from_prior(train_dataloader, 1)\n",
    "# print(im.shape)\n"
   ]
  },
  {
   "cell_type": "code",
   "execution_count": 214,
   "metadata": {},
   "outputs": [
    {
     "name": "stdout",
     "output_type": "stream",
     "text": [
      "tensor([[[[ 1.6086e+00,  1.1455e+00,  1.2274e+00,  ..., -2.3031e-01,\n",
      "            1.9293e-01,  1.1345e+00],\n",
      "          [ 1.4715e+00,  1.3229e+00,  1.7565e+00,  ..., -4.1377e-01,\n",
      "            3.6692e-01,  1.4124e+00],\n",
      "          [ 1.2067e+00,  1.2746e+00,  1.8166e+00,  ..., -2.7847e-01,\n",
      "            2.6680e-01,  1.0878e+00],\n",
      "          ...,\n",
      "          [ 1.0616e+00,  1.5870e+00,  1.2618e+00,  ..., -2.1076e-01,\n",
      "           -5.1585e-01,  8.4200e-02],\n",
      "          [ 1.9141e+00,  2.3876e+00,  1.7900e+00,  ...,  5.3551e-01,\n",
      "           -3.3369e-03,  1.9174e-01],\n",
      "          [ 1.8393e+00,  2.0355e+00,  2.0436e+00,  ...,  5.3270e-01,\n",
      "            6.3888e-01,  1.0422e+00]],\n",
      "\n",
      "         [[ 1.5983e+00,  1.2438e+00,  1.4585e+00,  ..., -3.8631e-01,\n",
      "            2.4261e-01,  1.0112e+00],\n",
      "          [ 1.4744e+00,  1.3626e+00,  1.7871e+00,  ..., -6.0775e-01,\n",
      "            3.5660e-01,  1.2303e+00],\n",
      "          [ 1.2504e+00,  1.2575e+00,  1.6371e+00,  ..., -3.3978e-01,\n",
      "            2.9036e-01,  1.0208e+00],\n",
      "          ...,\n",
      "          [ 6.5385e-01,  1.3408e+00,  1.0946e+00,  ..., -9.7222e-01,\n",
      "           -1.2267e+00, -8.0959e-01],\n",
      "          [ 1.5810e+00,  1.9900e+00,  1.4897e+00,  ..., -3.0773e-01,\n",
      "           -6.4591e-01, -6.2242e-01],\n",
      "          [ 1.5408e+00,  1.6648e+00,  1.7451e+00,  ..., -3.4056e-01,\n",
      "           -3.2935e-02,  2.4283e-01]],\n",
      "\n",
      "         [[ 1.7939e+00,  1.5004e+00,  1.6805e+00,  ..., -1.0561e-02,\n",
      "            1.1410e-01,  8.5033e-01],\n",
      "          [ 1.6762e+00,  1.8099e+00,  2.2602e+00,  ..., -3.3786e-02,\n",
      "            5.2925e-01,  1.2077e+00],\n",
      "          [ 1.4405e+00,  1.7266e+00,  2.3424e+00,  ...,  3.2647e-01,\n",
      "            6.5591e-01,  1.1037e+00],\n",
      "          ...,\n",
      "          [ 4.6306e-01,  1.1764e+00,  7.4327e-01,  ..., -9.1950e-01,\n",
      "           -9.9602e-01, -5.6597e-01],\n",
      "          [ 1.2972e+00,  1.7435e+00,  1.0016e+00,  ..., -2.4797e-01,\n",
      "           -6.3902e-01, -5.3502e-01],\n",
      "          [ 1.1362e+00,  1.2073e+00,  1.0833e+00,  ..., -2.4084e-01,\n",
      "           -1.9351e-01,  1.9112e-01]]],\n",
      "\n",
      "\n",
      "        [[[ 1.8462e+00,  1.8033e+00,  1.8050e+00,  ..., -4.4638e-01,\n",
      "           -5.0579e-01, -1.3386e-01],\n",
      "          [ 8.8429e-01,  7.4262e-01,  7.6092e-01,  ..., -2.0169e-01,\n",
      "            2.4390e-01,  4.5776e-01],\n",
      "          [ 3.4265e-01,  2.6611e-01,  1.5658e-01,  ..., -1.0650e-01,\n",
      "            3.6502e-01,  9.5654e-01],\n",
      "          ...,\n",
      "          [-3.7355e-01, -9.9747e-01, -1.0242e+00,  ..., -3.0396e-01,\n",
      "            1.1193e-01,  5.1198e-01],\n",
      "          [-5.0705e-01, -8.8006e-01, -5.4304e-01,  ..., -1.8677e-01,\n",
      "           -4.0285e-01,  2.9280e-01],\n",
      "          [-4.5760e-01, -8.4410e-01, -4.8740e-01,  ..., -2.9044e-01,\n",
      "           -9.2036e-01,  9.1985e-02]],\n",
      "\n",
      "         [[ 1.8206e+00,  1.7359e+00,  1.8400e+00,  ..., -2.1086e-01,\n",
      "           -1.7189e-01,  2.1927e-01],\n",
      "          [ 8.2441e-01,  6.7417e-01,  7.3232e-01,  ...,  3.6137e-02,\n",
      "            5.7060e-01,  8.3456e-01],\n",
      "          [ 3.2577e-01,  2.1500e-01,  6.1677e-02,  ...,  1.6693e-01,\n",
      "            6.8593e-01,  1.1830e+00],\n",
      "          ...,\n",
      "          [-8.5206e-01, -1.0702e+00, -1.0282e+00,  ..., -1.6235e-01,\n",
      "            2.1466e-01,  5.8257e-01],\n",
      "          [-6.7086e-01, -7.3363e-01, -4.3549e-01,  ..., -1.4293e-01,\n",
      "           -4.0919e-01,  2.3913e-01],\n",
      "          [-4.7984e-01, -7.4688e-01, -4.5197e-01,  ..., -3.8056e-01,\n",
      "           -1.0646e+00, -8.5286e-02]],\n",
      "\n",
      "         [[ 1.6439e+00,  1.7400e+00,  1.8936e+00,  ...,  3.2360e-01,\n",
      "            2.3007e-01,  6.9192e-01],\n",
      "          [ 6.8398e-01,  8.6407e-01,  1.0704e+00,  ...,  5.1785e-01,\n",
      "            8.8341e-01,  1.2206e+00],\n",
      "          [ 2.6575e-01,  4.9110e-01,  6.6991e-01,  ...,  7.3137e-01,\n",
      "            1.1682e+00,  1.6228e+00],\n",
      "          ...,\n",
      "          [-4.2122e-01, -6.4949e-01, -5.9739e-01,  ...,  7.7535e-01,\n",
      "            1.1972e+00,  1.6867e+00],\n",
      "          [-3.5124e-01, -4.4693e-01,  5.3211e-02,  ...,  7.6632e-01,\n",
      "            5.8627e-01,  1.2513e+00],\n",
      "          [-3.1777e-01, -6.8021e-01, -1.9972e-01,  ...,  3.3248e-01,\n",
      "           -8.2503e-02,  9.8776e-01]]],\n",
      "\n",
      "\n",
      "        [[[ 1.7529e+00,  1.2114e+00,  7.9797e-01,  ...,  2.1256e-01,\n",
      "            1.2976e-01,  2.2911e-01],\n",
      "          [ 1.2598e+00,  6.3177e-01,  6.3247e-01,  ...,  5.9813e-01,\n",
      "            5.9993e-01,  1.8125e-01],\n",
      "          [ 1.2345e+00,  6.0536e-01,  9.0018e-01,  ...,  8.8353e-01,\n",
      "            7.0188e-01,  5.7971e-02],\n",
      "          ...,\n",
      "          [ 1.9203e+00,  1.3287e+00,  1.3970e+00,  ...,  3.6346e-01,\n",
      "            6.4091e-01,  7.3170e-01],\n",
      "          [ 2.1525e+00,  1.8265e+00,  1.7428e+00,  ...,  1.4578e+00,\n",
      "            1.1883e+00,  1.5090e+00],\n",
      "          [ 1.4754e+00,  1.3309e+00,  1.4182e+00,  ...,  1.4658e+00,\n",
      "            1.3490e+00,  1.6216e+00]],\n",
      "\n",
      "         [[ 8.7345e-01,  3.1739e-01, -2.3788e-01,  ..., -1.0780e+00,\n",
      "           -1.2986e+00, -1.4091e+00],\n",
      "          [ 3.7053e-01, -1.8519e-01, -4.0241e-01,  ..., -7.2327e-01,\n",
      "           -8.8731e-01, -1.5161e+00],\n",
      "          [ 1.8214e-01, -2.2018e-01, -1.7632e-02,  ..., -4.0815e-01,\n",
      "           -7.2515e-01, -1.5469e+00],\n",
      "          ...,\n",
      "          [ 1.6052e+00,  1.2422e+00,  1.3229e+00,  ..., -5.8211e-04,\n",
      "            2.9291e-01,  4.2318e-01],\n",
      "          [ 2.0366e+00,  1.7022e+00,  1.6131e+00,  ...,  1.2043e+00,\n",
      "            9.6640e-01,  1.3860e+00],\n",
      "          [ 1.4650e+00,  1.1891e+00,  1.1324e+00,  ...,  1.2277e+00,\n",
      "            1.1496e+00,  1.3780e+00]],\n",
      "\n",
      "         [[ 1.2721e+00,  7.8212e-01,  1.1710e-01,  ..., -7.0776e-01,\n",
      "           -9.3509e-01, -9.0891e-01],\n",
      "          [ 7.7913e-01,  2.1144e-01,  9.0878e-02,  ..., -2.9339e-01,\n",
      "           -3.5015e-01, -9.2322e-01],\n",
      "          [ 5.6010e-01,  7.6831e-02,  4.2117e-01,  ..., -9.7423e-02,\n",
      "           -2.8063e-01, -1.0745e+00],\n",
      "          ...,\n",
      "          [ 9.8105e-01,  8.8895e-01,  1.2561e+00,  ...,  2.6303e-01,\n",
      "            4.6753e-01,  4.7553e-01],\n",
      "          [ 1.7017e+00,  1.7413e+00,  1.7941e+00,  ...,  1.1724e+00,\n",
      "            9.8553e-01,  1.4344e+00],\n",
      "          [ 1.2884e+00,  1.2925e+00,  1.2208e+00,  ...,  9.9757e-01,\n",
      "            1.0016e+00,  1.5106e+00]]],\n",
      "\n",
      "\n",
      "        ...,\n",
      "\n",
      "\n",
      "        [[[ 3.3451e-02, -2.2022e-01, -2.9250e-01,  ...,  7.9754e-01,\n",
      "            1.4160e+00,  1.1706e+00],\n",
      "          [-1.3395e-01, -1.6965e-01, -4.0930e-01,  ...,  1.5071e+00,\n",
      "            1.8563e+00,  2.2767e+00],\n",
      "          [-1.1698e-01,  3.9961e-01,  4.1002e-02,  ...,  9.0980e-01,\n",
      "            1.2307e+00,  2.0032e+00],\n",
      "          ...,\n",
      "          [ 7.5522e-01,  9.0822e-01,  1.4091e-02,  ...,  9.3447e-01,\n",
      "            8.3758e-01,  9.2569e-01],\n",
      "          [ 1.1971e+00,  1.3092e+00,  7.0046e-01,  ...,  5.5525e-01,\n",
      "            4.6960e-01,  6.0297e-01],\n",
      "          [ 1.7210e+00,  1.1482e+00,  1.0798e+00,  ..., -3.6493e-01,\n",
      "           -6.8553e-02,  3.9835e-01]],\n",
      "\n",
      "         [[-5.7052e-01, -6.5239e-01, -5.5885e-01,  ...,  3.4183e-01,\n",
      "            7.8059e-01,  5.1651e-01],\n",
      "          [-5.6477e-01, -3.7424e-01, -5.0490e-01,  ...,  1.0957e+00,\n",
      "            1.2940e+00,  1.7496e+00],\n",
      "          [-5.9816e-01,  1.5078e-01, -1.2439e-01,  ...,  1.9040e-01,\n",
      "            4.1081e-01,  1.3155e+00],\n",
      "          ...,\n",
      "          [ 5.1261e-01,  6.9254e-01, -2.8101e-01,  ..., -8.9304e-03,\n",
      "           -7.2621e-02,  9.2302e-02],\n",
      "          [ 7.6587e-01,  8.6250e-01,  3.1903e-01,  ..., -2.0581e-01,\n",
      "           -2.6215e-01, -1.6297e-01],\n",
      "          [ 1.0415e+00,  4.8143e-01,  4.9759e-01,  ..., -9.3620e-01,\n",
      "           -5.8852e-01, -1.9044e-01]],\n",
      "\n",
      "         [[-5.9329e-01, -5.4274e-01, -6.0067e-01,  ..., -4.7185e-01,\n",
      "            6.7626e-03, -2.6886e-01],\n",
      "          [-7.1896e-01, -4.8031e-01, -6.1798e-01,  ...,  2.1548e-01,\n",
      "            4.1651e-01,  7.6114e-01],\n",
      "          [-6.9420e-01, -1.7857e-02, -1.9261e-01,  ..., -4.7195e-01,\n",
      "           -2.1166e-01,  5.5515e-01],\n",
      "          ...,\n",
      "          [-1.5357e-01, -2.5228e-01, -1.2217e+00,  ..., -2.4406e-01,\n",
      "           -1.9553e-01, -1.3875e-01],\n",
      "          [ 1.0043e-01,  5.1014e-02, -6.8051e-01,  ..., -5.7082e-01,\n",
      "           -5.0781e-01, -3.7284e-01],\n",
      "          [ 4.1247e-01, -1.4141e-01, -3.4707e-01,  ..., -1.2592e+00,\n",
      "           -9.4436e-01, -6.5352e-01]]],\n",
      "\n",
      "\n",
      "        [[[-1.5021e+00, -1.0563e+00, -1.2709e+00,  ..., -2.6132e+00,\n",
      "           -2.2730e+00, -2.1208e+00],\n",
      "          [-1.1310e+00, -7.7743e-01, -1.2480e+00,  ..., -2.1867e+00,\n",
      "           -1.6260e+00, -1.9748e+00],\n",
      "          [-9.6602e-01, -1.1857e+00, -1.6436e+00,  ..., -2.0176e+00,\n",
      "           -1.4951e+00, -1.6331e+00],\n",
      "          ...,\n",
      "          [-1.6447e+00, -1.0156e+00,  9.9689e-02,  ...,  4.2324e-01,\n",
      "            6.3054e-01,  5.2032e-01],\n",
      "          [-1.0445e+00, -2.3342e-01,  2.1761e-01,  ..., -6.0388e-02,\n",
      "            5.6584e-02,  4.5070e-01],\n",
      "          [-2.5346e-01,  5.9145e-01,  5.5506e-01,  ..., -3.5001e-02,\n",
      "           -2.9942e-01, -8.6584e-02]],\n",
      "\n",
      "         [[-1.5401e+00, -1.0764e+00, -1.1872e+00,  ..., -2.4397e+00,\n",
      "           -2.0579e+00, -1.9509e+00],\n",
      "          [-9.8024e-01, -5.3317e-01, -8.4679e-01,  ..., -1.8239e+00,\n",
      "           -1.2523e+00, -1.6846e+00],\n",
      "          [-8.6152e-01, -8.4751e-01, -1.1400e+00,  ..., -1.5504e+00,\n",
      "           -9.2625e-01, -1.0839e+00],\n",
      "          ...,\n",
      "          [-1.5372e+00, -9.6602e-01, -3.6091e-02,  ...,  8.5623e-02,\n",
      "            3.7149e-02, -2.0277e-01],\n",
      "          [-9.4854e-01, -2.0263e-01,  1.7932e-01,  ..., -4.0036e-01,\n",
      "           -3.7446e-01, -1.5871e-01],\n",
      "          [-1.2059e-01,  6.2026e-01,  5.8759e-01,  ..., -4.2627e-01,\n",
      "           -7.6347e-01, -7.4269e-01]],\n",
      "\n",
      "         [[-9.7795e-01, -5.9416e-01, -4.7754e-01,  ..., -1.7089e+00,\n",
      "           -1.3973e+00, -1.6730e+00],\n",
      "          [-5.5360e-01, -1.1441e-01, -1.7590e-01,  ..., -1.2562e+00,\n",
      "           -7.2245e-01, -1.4322e+00],\n",
      "          [-3.1664e-01, -4.3908e-01, -6.1804e-01,  ..., -1.0463e+00,\n",
      "           -4.3084e-01, -8.5236e-01],\n",
      "          ...,\n",
      "          [-8.6677e-01, -5.4658e-01,  2.7966e-02,  ...,  3.1828e-01,\n",
      "            3.3920e-01,  4.6900e-01],\n",
      "          [-3.7043e-01,  2.4984e-01,  2.7364e-01,  ...,  4.8249e-02,\n",
      "            6.6948e-02,  4.1060e-01],\n",
      "          [ 2.7587e-01,  1.0217e+00,  6.8129e-01,  ...,  1.2054e-01,\n",
      "           -2.0070e-01, -2.1159e-01]]],\n",
      "\n",
      "\n",
      "        [[[ 5.6914e-01,  7.7362e-01,  7.1464e-01,  ..., -8.2966e-01,\n",
      "           -9.8009e-01, -8.2383e-01],\n",
      "          [ 5.9451e-01,  8.0907e-01,  9.0680e-01,  ..., -9.7734e-01,\n",
      "           -1.3225e+00, -1.2762e+00],\n",
      "          [ 8.5409e-01,  1.1848e+00,  1.3038e+00,  ..., -1.0691e+00,\n",
      "           -1.1135e+00, -1.2582e+00],\n",
      "          ...,\n",
      "          [-1.1262e+00, -1.7816e+00, -1.5997e+00,  ..., -8.6278e-01,\n",
      "           -1.4615e+00, -1.8379e+00],\n",
      "          [-1.6249e+00, -1.7378e+00, -9.1161e-01,  ..., -1.4465e+00,\n",
      "           -2.1220e+00, -2.3177e+00],\n",
      "          [-1.7049e+00, -1.1845e+00, -6.6822e-01,  ..., -1.1068e+00,\n",
      "           -1.9024e+00, -2.0304e+00]],\n",
      "\n",
      "         [[-1.5388e-01,  2.4873e-01,  3.2232e-01,  ..., -5.0355e-01,\n",
      "           -1.0037e+00, -1.0472e+00],\n",
      "          [-2.1118e-01,  1.2752e-01,  3.2229e-01,  ..., -9.1217e-01,\n",
      "           -1.5700e+00, -1.6258e+00],\n",
      "          [ 1.3823e-01,  4.5582e-01,  7.1119e-01,  ..., -1.2156e+00,\n",
      "           -1.4651e+00, -1.6901e+00],\n",
      "          ...,\n",
      "          [-1.8343e+00, -2.3711e+00, -2.2392e+00,  ..., -1.5651e+00,\n",
      "           -2.0360e+00, -2.3008e+00],\n",
      "          [-2.2687e+00, -2.4565e+00, -1.8220e+00,  ..., -2.0962e+00,\n",
      "           -2.5721e+00, -2.6794e+00],\n",
      "          [-2.2645e+00, -1.9414e+00, -1.6848e+00,  ..., -1.4691e+00,\n",
      "           -2.0877e+00, -2.2089e+00]],\n",
      "\n",
      "         [[ 1.1562e+00,  1.3166e+00,  1.2227e+00,  ...,  1.3548e-01,\n",
      "            2.1742e-02, -2.3618e-02],\n",
      "          [ 1.2489e+00,  1.3635e+00,  1.2287e+00,  ..., -5.0434e-01,\n",
      "           -7.9488e-01, -6.1810e-01],\n",
      "          [ 1.2612e+00,  1.3752e+00,  1.4531e+00,  ..., -9.2330e-01,\n",
      "           -7.1710e-01, -5.7128e-01],\n",
      "          ...,\n",
      "          [-1.0130e+00, -1.7336e+00, -1.5059e+00,  ..., -5.8706e-01,\n",
      "           -9.4237e-01, -1.0645e+00],\n",
      "          [-1.0719e+00, -1.5659e+00, -8.4661e-01,  ..., -1.1133e+00,\n",
      "           -1.4879e+00, -1.3254e+00],\n",
      "          [-1.0060e+00, -9.2001e-01, -5.4372e-01,  ..., -4.9108e-01,\n",
      "           -1.0017e+00, -7.3408e-01]]]])\n"
     ]
    }
   ],
   "source": [
    "print(im)"
   ]
  },
  {
   "cell_type": "code",
   "execution_count": 227,
   "metadata": {},
   "outputs": [
    {
     "name": "stderr",
     "output_type": "stream",
     "text": [
      "Clipping input data to the valid range for imshow with RGB data ([0..1] for floats or [0..255] for integers).\n"
     ]
    },
    {
     "name": "stdout",
     "output_type": "stream",
     "text": [
      "tensor([[[[ 1.6086e+00,  1.1455e+00,  1.2274e+00,  ..., -2.3031e-01,\n",
      "            1.9293e-01,  1.1345e+00],\n",
      "          [ 1.4715e+00,  1.3229e+00,  1.7565e+00,  ..., -4.1377e-01,\n",
      "            3.6692e-01,  1.4124e+00],\n",
      "          [ 1.2067e+00,  1.2746e+00,  1.8166e+00,  ..., -2.7847e-01,\n",
      "            2.6680e-01,  1.0878e+00],\n",
      "          ...,\n",
      "          [ 1.0616e+00,  1.5870e+00,  1.2618e+00,  ..., -2.1076e-01,\n",
      "           -5.1585e-01,  8.4200e-02],\n",
      "          [ 1.9141e+00,  2.3876e+00,  1.7900e+00,  ...,  5.3551e-01,\n",
      "           -3.3369e-03,  1.9174e-01],\n",
      "          [ 1.8393e+00,  2.0355e+00,  2.0436e+00,  ...,  5.3270e-01,\n",
      "            6.3888e-01,  1.0422e+00]],\n",
      "\n",
      "         [[ 1.5983e+00,  1.2438e+00,  1.4585e+00,  ..., -3.8631e-01,\n",
      "            2.4261e-01,  1.0112e+00],\n",
      "          [ 1.4744e+00,  1.3626e+00,  1.7871e+00,  ..., -6.0775e-01,\n",
      "            3.5660e-01,  1.2303e+00],\n",
      "          [ 1.2504e+00,  1.2575e+00,  1.6371e+00,  ..., -3.3978e-01,\n",
      "            2.9036e-01,  1.0208e+00],\n",
      "          ...,\n",
      "          [ 6.5385e-01,  1.3408e+00,  1.0946e+00,  ..., -9.7222e-01,\n",
      "           -1.2267e+00, -8.0959e-01],\n",
      "          [ 1.5810e+00,  1.9900e+00,  1.4897e+00,  ..., -3.0773e-01,\n",
      "           -6.4591e-01, -6.2242e-01],\n",
      "          [ 1.5408e+00,  1.6648e+00,  1.7451e+00,  ..., -3.4056e-01,\n",
      "           -3.2935e-02,  2.4283e-01]],\n",
      "\n",
      "         [[ 1.7939e+00,  1.5004e+00,  1.6805e+00,  ..., -1.0561e-02,\n",
      "            1.1410e-01,  8.5033e-01],\n",
      "          [ 1.6762e+00,  1.8099e+00,  2.2602e+00,  ..., -3.3786e-02,\n",
      "            5.2925e-01,  1.2077e+00],\n",
      "          [ 1.4405e+00,  1.7266e+00,  2.3424e+00,  ...,  3.2647e-01,\n",
      "            6.5591e-01,  1.1037e+00],\n",
      "          ...,\n",
      "          [ 4.6306e-01,  1.1764e+00,  7.4327e-01,  ..., -9.1950e-01,\n",
      "           -9.9602e-01, -5.6597e-01],\n",
      "          [ 1.2972e+00,  1.7435e+00,  1.0016e+00,  ..., -2.4797e-01,\n",
      "           -6.3902e-01, -5.3502e-01],\n",
      "          [ 1.1362e+00,  1.2073e+00,  1.0833e+00,  ..., -2.4084e-01,\n",
      "           -1.9351e-01,  1.9112e-01]]],\n",
      "\n",
      "\n",
      "        [[[ 1.8462e+00,  1.8033e+00,  1.8050e+00,  ..., -4.4638e-01,\n",
      "           -5.0579e-01, -1.3386e-01],\n",
      "          [ 8.8429e-01,  7.4262e-01,  7.6092e-01,  ..., -2.0169e-01,\n",
      "            2.4390e-01,  4.5776e-01],\n",
      "          [ 3.4265e-01,  2.6611e-01,  1.5658e-01,  ..., -1.0650e-01,\n",
      "            3.6502e-01,  9.5654e-01],\n",
      "          ...,\n",
      "          [-3.7355e-01, -9.9747e-01, -1.0242e+00,  ..., -3.0396e-01,\n",
      "            1.1193e-01,  5.1198e-01],\n",
      "          [-5.0705e-01, -8.8006e-01, -5.4304e-01,  ..., -1.8677e-01,\n",
      "           -4.0285e-01,  2.9280e-01],\n",
      "          [-4.5760e-01, -8.4410e-01, -4.8740e-01,  ..., -2.9044e-01,\n",
      "           -9.2036e-01,  9.1985e-02]],\n",
      "\n",
      "         [[ 1.8206e+00,  1.7359e+00,  1.8400e+00,  ..., -2.1086e-01,\n",
      "           -1.7189e-01,  2.1927e-01],\n",
      "          [ 8.2441e-01,  6.7417e-01,  7.3232e-01,  ...,  3.6137e-02,\n",
      "            5.7060e-01,  8.3456e-01],\n",
      "          [ 3.2577e-01,  2.1500e-01,  6.1677e-02,  ...,  1.6693e-01,\n",
      "            6.8593e-01,  1.1830e+00],\n",
      "          ...,\n",
      "          [-8.5206e-01, -1.0702e+00, -1.0282e+00,  ..., -1.6235e-01,\n",
      "            2.1466e-01,  5.8257e-01],\n",
      "          [-6.7086e-01, -7.3363e-01, -4.3549e-01,  ..., -1.4293e-01,\n",
      "           -4.0919e-01,  2.3913e-01],\n",
      "          [-4.7984e-01, -7.4688e-01, -4.5197e-01,  ..., -3.8056e-01,\n",
      "           -1.0646e+00, -8.5286e-02]],\n",
      "\n",
      "         [[ 1.6439e+00,  1.7400e+00,  1.8936e+00,  ...,  3.2360e-01,\n",
      "            2.3007e-01,  6.9192e-01],\n",
      "          [ 6.8398e-01,  8.6407e-01,  1.0704e+00,  ...,  5.1785e-01,\n",
      "            8.8341e-01,  1.2206e+00],\n",
      "          [ 2.6575e-01,  4.9110e-01,  6.6991e-01,  ...,  7.3137e-01,\n",
      "            1.1682e+00,  1.6228e+00],\n",
      "          ...,\n",
      "          [-4.2122e-01, -6.4949e-01, -5.9739e-01,  ...,  7.7535e-01,\n",
      "            1.1972e+00,  1.6867e+00],\n",
      "          [-3.5124e-01, -4.4693e-01,  5.3211e-02,  ...,  7.6632e-01,\n",
      "            5.8627e-01,  1.2513e+00],\n",
      "          [-3.1777e-01, -6.8021e-01, -1.9972e-01,  ...,  3.3248e-01,\n",
      "           -8.2503e-02,  9.8776e-01]]],\n",
      "\n",
      "\n",
      "        [[[ 1.7529e+00,  1.2114e+00,  7.9797e-01,  ...,  2.1256e-01,\n",
      "            1.2976e-01,  2.2911e-01],\n",
      "          [ 1.2598e+00,  6.3177e-01,  6.3247e-01,  ...,  5.9813e-01,\n",
      "            5.9993e-01,  1.8125e-01],\n",
      "          [ 1.2345e+00,  6.0536e-01,  9.0018e-01,  ...,  8.8353e-01,\n",
      "            7.0188e-01,  5.7971e-02],\n",
      "          ...,\n",
      "          [ 1.9203e+00,  1.3287e+00,  1.3970e+00,  ...,  3.6346e-01,\n",
      "            6.4091e-01,  7.3170e-01],\n",
      "          [ 2.1525e+00,  1.8265e+00,  1.7428e+00,  ...,  1.4578e+00,\n",
      "            1.1883e+00,  1.5090e+00],\n",
      "          [ 1.4754e+00,  1.3309e+00,  1.4182e+00,  ...,  1.4658e+00,\n",
      "            1.3490e+00,  1.6216e+00]],\n",
      "\n",
      "         [[ 8.7345e-01,  3.1739e-01, -2.3788e-01,  ..., -1.0780e+00,\n",
      "           -1.2986e+00, -1.4091e+00],\n",
      "          [ 3.7053e-01, -1.8519e-01, -4.0241e-01,  ..., -7.2327e-01,\n",
      "           -8.8731e-01, -1.5161e+00],\n",
      "          [ 1.8214e-01, -2.2018e-01, -1.7632e-02,  ..., -4.0815e-01,\n",
      "           -7.2515e-01, -1.5469e+00],\n",
      "          ...,\n",
      "          [ 1.6052e+00,  1.2422e+00,  1.3229e+00,  ..., -5.8211e-04,\n",
      "            2.9291e-01,  4.2318e-01],\n",
      "          [ 2.0366e+00,  1.7022e+00,  1.6131e+00,  ...,  1.2043e+00,\n",
      "            9.6640e-01,  1.3860e+00],\n",
      "          [ 1.4650e+00,  1.1891e+00,  1.1324e+00,  ...,  1.2277e+00,\n",
      "            1.1496e+00,  1.3780e+00]],\n",
      "\n",
      "         [[ 1.2721e+00,  7.8212e-01,  1.1710e-01,  ..., -7.0776e-01,\n",
      "           -9.3509e-01, -9.0891e-01],\n",
      "          [ 7.7913e-01,  2.1144e-01,  9.0878e-02,  ..., -2.9339e-01,\n",
      "           -3.5015e-01, -9.2322e-01],\n",
      "          [ 5.6010e-01,  7.6831e-02,  4.2117e-01,  ..., -9.7423e-02,\n",
      "           -2.8063e-01, -1.0745e+00],\n",
      "          ...,\n",
      "          [ 9.8105e-01,  8.8895e-01,  1.2561e+00,  ...,  2.6303e-01,\n",
      "            4.6753e-01,  4.7553e-01],\n",
      "          [ 1.7017e+00,  1.7413e+00,  1.7941e+00,  ...,  1.1724e+00,\n",
      "            9.8553e-01,  1.4344e+00],\n",
      "          [ 1.2884e+00,  1.2925e+00,  1.2208e+00,  ...,  9.9757e-01,\n",
      "            1.0016e+00,  1.5106e+00]]],\n",
      "\n",
      "\n",
      "        ...,\n",
      "\n",
      "\n",
      "        [[[ 3.3451e-02, -2.2022e-01, -2.9250e-01,  ...,  7.9754e-01,\n",
      "            1.4160e+00,  1.1706e+00],\n",
      "          [-1.3395e-01, -1.6965e-01, -4.0930e-01,  ...,  1.5071e+00,\n",
      "            1.8563e+00,  2.2767e+00],\n",
      "          [-1.1698e-01,  3.9961e-01,  4.1002e-02,  ...,  9.0980e-01,\n",
      "            1.2307e+00,  2.0032e+00],\n",
      "          ...,\n",
      "          [ 7.5522e-01,  9.0822e-01,  1.4091e-02,  ...,  9.3447e-01,\n",
      "            8.3758e-01,  9.2569e-01],\n",
      "          [ 1.1971e+00,  1.3092e+00,  7.0046e-01,  ...,  5.5525e-01,\n",
      "            4.6960e-01,  6.0297e-01],\n",
      "          [ 1.7210e+00,  1.1482e+00,  1.0798e+00,  ..., -3.6493e-01,\n",
      "           -6.8553e-02,  3.9835e-01]],\n",
      "\n",
      "         [[-5.7052e-01, -6.5239e-01, -5.5885e-01,  ...,  3.4183e-01,\n",
      "            7.8059e-01,  5.1651e-01],\n",
      "          [-5.6477e-01, -3.7424e-01, -5.0490e-01,  ...,  1.0957e+00,\n",
      "            1.2940e+00,  1.7496e+00],\n",
      "          [-5.9816e-01,  1.5078e-01, -1.2439e-01,  ...,  1.9040e-01,\n",
      "            4.1081e-01,  1.3155e+00],\n",
      "          ...,\n",
      "          [ 5.1261e-01,  6.9254e-01, -2.8101e-01,  ..., -8.9304e-03,\n",
      "           -7.2621e-02,  9.2302e-02],\n",
      "          [ 7.6587e-01,  8.6250e-01,  3.1903e-01,  ..., -2.0581e-01,\n",
      "           -2.6215e-01, -1.6297e-01],\n",
      "          [ 1.0415e+00,  4.8143e-01,  4.9759e-01,  ..., -9.3620e-01,\n",
      "           -5.8852e-01, -1.9044e-01]],\n",
      "\n",
      "         [[-5.9329e-01, -5.4274e-01, -6.0067e-01,  ..., -4.7185e-01,\n",
      "            6.7626e-03, -2.6886e-01],\n",
      "          [-7.1896e-01, -4.8031e-01, -6.1798e-01,  ...,  2.1548e-01,\n",
      "            4.1651e-01,  7.6114e-01],\n",
      "          [-6.9420e-01, -1.7857e-02, -1.9261e-01,  ..., -4.7195e-01,\n",
      "           -2.1166e-01,  5.5515e-01],\n",
      "          ...,\n",
      "          [-1.5357e-01, -2.5228e-01, -1.2217e+00,  ..., -2.4406e-01,\n",
      "           -1.9553e-01, -1.3875e-01],\n",
      "          [ 1.0043e-01,  5.1014e-02, -6.8051e-01,  ..., -5.7082e-01,\n",
      "           -5.0781e-01, -3.7284e-01],\n",
      "          [ 4.1247e-01, -1.4141e-01, -3.4707e-01,  ..., -1.2592e+00,\n",
      "           -9.4436e-01, -6.5352e-01]]],\n",
      "\n",
      "\n",
      "        [[[-1.5021e+00, -1.0563e+00, -1.2709e+00,  ..., -2.6132e+00,\n",
      "           -2.2730e+00, -2.1208e+00],\n",
      "          [-1.1310e+00, -7.7743e-01, -1.2480e+00,  ..., -2.1867e+00,\n",
      "           -1.6260e+00, -1.9748e+00],\n",
      "          [-9.6602e-01, -1.1857e+00, -1.6436e+00,  ..., -2.0176e+00,\n",
      "           -1.4951e+00, -1.6331e+00],\n",
      "          ...,\n",
      "          [-1.6447e+00, -1.0156e+00,  9.9689e-02,  ...,  4.2324e-01,\n",
      "            6.3054e-01,  5.2032e-01],\n",
      "          [-1.0445e+00, -2.3342e-01,  2.1761e-01,  ..., -6.0388e-02,\n",
      "            5.6584e-02,  4.5070e-01],\n",
      "          [-2.5346e-01,  5.9145e-01,  5.5506e-01,  ..., -3.5001e-02,\n",
      "           -2.9942e-01, -8.6584e-02]],\n",
      "\n",
      "         [[-1.5401e+00, -1.0764e+00, -1.1872e+00,  ..., -2.4397e+00,\n",
      "           -2.0579e+00, -1.9509e+00],\n",
      "          [-9.8024e-01, -5.3317e-01, -8.4679e-01,  ..., -1.8239e+00,\n",
      "           -1.2523e+00, -1.6846e+00],\n",
      "          [-8.6152e-01, -8.4751e-01, -1.1400e+00,  ..., -1.5504e+00,\n",
      "           -9.2625e-01, -1.0839e+00],\n",
      "          ...,\n",
      "          [-1.5372e+00, -9.6602e-01, -3.6091e-02,  ...,  8.5623e-02,\n",
      "            3.7149e-02, -2.0277e-01],\n",
      "          [-9.4854e-01, -2.0263e-01,  1.7932e-01,  ..., -4.0036e-01,\n",
      "           -3.7446e-01, -1.5871e-01],\n",
      "          [-1.2059e-01,  6.2026e-01,  5.8759e-01,  ..., -4.2627e-01,\n",
      "           -7.6347e-01, -7.4269e-01]],\n",
      "\n",
      "         [[-9.7795e-01, -5.9416e-01, -4.7754e-01,  ..., -1.7089e+00,\n",
      "           -1.3973e+00, -1.6730e+00],\n",
      "          [-5.5360e-01, -1.1441e-01, -1.7590e-01,  ..., -1.2562e+00,\n",
      "           -7.2245e-01, -1.4322e+00],\n",
      "          [-3.1664e-01, -4.3908e-01, -6.1804e-01,  ..., -1.0463e+00,\n",
      "           -4.3084e-01, -8.5236e-01],\n",
      "          ...,\n",
      "          [-8.6677e-01, -5.4658e-01,  2.7966e-02,  ...,  3.1828e-01,\n",
      "            3.3920e-01,  4.6900e-01],\n",
      "          [-3.7043e-01,  2.4984e-01,  2.7364e-01,  ...,  4.8249e-02,\n",
      "            6.6948e-02,  4.1060e-01],\n",
      "          [ 2.7587e-01,  1.0217e+00,  6.8129e-01,  ...,  1.2054e-01,\n",
      "           -2.0070e-01, -2.1159e-01]]],\n",
      "\n",
      "\n",
      "        [[[ 5.6914e-01,  7.7362e-01,  7.1464e-01,  ..., -8.2966e-01,\n",
      "           -9.8009e-01, -8.2383e-01],\n",
      "          [ 5.9451e-01,  8.0907e-01,  9.0680e-01,  ..., -9.7734e-01,\n",
      "           -1.3225e+00, -1.2762e+00],\n",
      "          [ 8.5409e-01,  1.1848e+00,  1.3038e+00,  ..., -1.0691e+00,\n",
      "           -1.1135e+00, -1.2582e+00],\n",
      "          ...,\n",
      "          [-1.1262e+00, -1.7816e+00, -1.5997e+00,  ..., -8.6278e-01,\n",
      "           -1.4615e+00, -1.8379e+00],\n",
      "          [-1.6249e+00, -1.7378e+00, -9.1161e-01,  ..., -1.4465e+00,\n",
      "           -2.1220e+00, -2.3177e+00],\n",
      "          [-1.7049e+00, -1.1845e+00, -6.6822e-01,  ..., -1.1068e+00,\n",
      "           -1.9024e+00, -2.0304e+00]],\n",
      "\n",
      "         [[-1.5388e-01,  2.4873e-01,  3.2232e-01,  ..., -5.0355e-01,\n",
      "           -1.0037e+00, -1.0472e+00],\n",
      "          [-2.1118e-01,  1.2752e-01,  3.2229e-01,  ..., -9.1217e-01,\n",
      "           -1.5700e+00, -1.6258e+00],\n",
      "          [ 1.3823e-01,  4.5582e-01,  7.1119e-01,  ..., -1.2156e+00,\n",
      "           -1.4651e+00, -1.6901e+00],\n",
      "          ...,\n",
      "          [-1.8343e+00, -2.3711e+00, -2.2392e+00,  ..., -1.5651e+00,\n",
      "           -2.0360e+00, -2.3008e+00],\n",
      "          [-2.2687e+00, -2.4565e+00, -1.8220e+00,  ..., -2.0962e+00,\n",
      "           -2.5721e+00, -2.6794e+00],\n",
      "          [-2.2645e+00, -1.9414e+00, -1.6848e+00,  ..., -1.4691e+00,\n",
      "           -2.0877e+00, -2.2089e+00]],\n",
      "\n",
      "         [[ 1.1562e+00,  1.3166e+00,  1.2227e+00,  ...,  1.3548e-01,\n",
      "            2.1742e-02, -2.3618e-02],\n",
      "          [ 1.2489e+00,  1.3635e+00,  1.2287e+00,  ..., -5.0434e-01,\n",
      "           -7.9488e-01, -6.1810e-01],\n",
      "          [ 1.2612e+00,  1.3752e+00,  1.4531e+00,  ..., -9.2330e-01,\n",
      "           -7.1710e-01, -5.7128e-01],\n",
      "          ...,\n",
      "          [-1.0130e+00, -1.7336e+00, -1.5059e+00,  ..., -5.8706e-01,\n",
      "           -9.4237e-01, -1.0645e+00],\n",
      "          [-1.0719e+00, -1.5659e+00, -8.4661e-01,  ..., -1.1133e+00,\n",
      "           -1.4879e+00, -1.3254e+00],\n",
      "          [-1.0060e+00, -9.2001e-01, -5.4372e-01,  ..., -4.9108e-01,\n",
      "           -1.0017e+00, -7.3408e-01]]]])\n"
     ]
    },
    {
     "data": {
      "image/png": "[encoded data removed]",
      "text/plain": [
       "<Figure size 432x288 with 1 Axes>"
      ]
     },
     "metadata": {
      "needs_background": "light"
     },
     "output_type": "display_data"
    }
   ],
   "source": [
    "# print(im)\n",
    "display_im(im[1].view(3,32,32))"
   ]
  }
 ],
 "metadata": {
  "kernelspec": {
   "display_name": "Python 3",
   "language": "python",
   "name": "python3"
  },
  "language_info": {
   "codemirror_mode": {
    "name": "ipython",
    "version": 3
   },
   "file_extension": ".py",
   "mimetype": "text/x-python",
   "name": "python",
   "nbconvert_exporter": "python",
   "pygments_lexer": "ipython3",
   "version": "3.7.6"
  }
 },
 "nbformat": 4,
 "nbformat_minor": 4
}
